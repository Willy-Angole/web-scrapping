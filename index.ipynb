{
 "cells": [
  {
   "cell_type": "code",
   "execution_count": 1,
   "id": "24b3c1ce",
   "metadata": {},
   "outputs": [],
   "source": [
    "import pandas as pd\n",
    "from selenium import webdriver\n",
    "from selenium.webdriver.common.by import By\n",
    "from bs4 import BeautifulSoup\n",
    "import time\n",
    "import random\n",
    "#from fake_useragent import UserAgent\n",
    "import warnings\n",
    "warnings.filterwarnings(\"ignore\")"
   ]
  },
  {
   "cell_type": "code",
   "execution_count": 2,
   "id": "30daae04",
   "metadata": {},
   "outputs": [
    {
     "data": {
      "text/plain": [
       "'https://www.linkedin.com/jobs/search/?alertAction=viewjobs&currentJobId=3473218471&f_TPR=a1675982315-&geoId=101339379&keywords=data%20analyst&location=Nairobi%20County%2C%20Kenya&refresh=true&searchAlertRefId=9962d4af-f016-42ec-96ea-5b1bece6c118'"
      ]
     },
     "execution_count": 2,
     "metadata": {},
     "output_type": "execute_result"
    }
   ],
   "source": [
    "job = \"Data Analyst\"\n",
    "country = \"Kenya\"\n",
    "\n",
    "job_url =  \"\";\n",
    "for item in job.split(\",\"):\n",
    "    if item != job.split(\",\")[-1]:\n",
    "        #the URL will separate each of the words using “%20”\n",
    "        job_url = job_url + item + \"%20\"\n",
    "    else:\n",
    "        job_url = job_url + item\n",
    "\n",
    "country_url = \"\";\n",
    "for item in country.split(\",\"):\n",
    "    if item != country.split(\",\")[-1]:\n",
    "        country_url = country_url + item + \"%20\"\n",
    "    else:\n",
    "        country_url = country_url + item\n",
    "\n",
    "#job search url\n",
    "url = \"https://www.linkedin.com/jobs/search/?alertAction=viewjobs&currentJobId=3473218471&f_TPR=a1675982315-&geoId=101339379&keywords=data%20analyst&location=Nairobi%20County%2C%20Kenya&refresh=true&searchAlertRefId=9962d4af-f016-42ec-96ea-5b1bece6c118\"\n",
    "url.format(job_url, country_url)"
   ]
  },
  {
   "cell_type": "code",
   "execution_count": null,
   "id": "4daadc38",
   "metadata": {},
   "outputs": [],
   "source": [
    "# Path to the Chrome driver executable\n",
    "driver_path = \"/home/williy/Downloads/chromedriver_linux64\"\n",
    "\n",
    "# Create a new instance of the Chrome driver\n",
    "driver = webdriver.Chrome(driver_path)\n",
    "\n",
    "# Navigate to a URL\n",
    "#url = \"https://www.google.com\"\n",
    "driver.get(url)\n",
    "\n",
    "#add a random delay between requests\n",
    "delay = random.uniform(0.5, 2.0)\n",
    "\n",
    "#pause a program for the delay time\n",
    "time.sleep(delay)\n",
    "\n",
    "\n",
    "# Do something with the web page\n",
    "# ...\n",
    "\n",
    "# Quit the browser when done\n",
    "#driver.quit()"
   ]
  }
 ],
 "metadata": {
  "kernelspec": {
   "display_name": "Python 3 (ipykernel)",
   "language": "python",
   "name": "python3"
  },
  "language_info": {
   "codemirror_mode": {
    "name": "ipython",
    "version": 3
   },
   "file_extension": ".py",
   "mimetype": "text/x-python",
   "name": "python",
   "nbconvert_exporter": "python",
   "pygments_lexer": "ipython3",
   "version": "3.10.6"
  }
 },
 "nbformat": 4,
 "nbformat_minor": 5
}
